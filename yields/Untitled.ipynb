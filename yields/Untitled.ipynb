{
 "cells": [
  {
   "cell_type": "code",
   "execution_count": 3,
   "metadata": {
    "collapsed": true
   },
   "outputs": [],
   "source": [
    "import os\n",
    "import glob"
   ]
  },
  {
   "cell_type": "code",
   "execution_count": 7,
   "metadata": {},
   "outputs": [],
   "source": [
    "files = glob.glob(\"*.txt\")"
   ]
  },
  {
   "cell_type": "code",
   "execution_count": 9,
   "metadata": {},
   "outputs": [],
   "source": [
    "lookup = {'monterey': '053', 'sonoma': '097', 'humboldt': '023', 'fresno': '019', 'merced': '047', 'yolo': '113', 'yuba': '115', 'delnorte': '015', 'tehama': '103', 'kings': '031', 'nevada': '057', 'santaclara': '085', 'sanjoaquin': '077', 'glenn': '021', 'eldorado': '017', 'lake': '033', 'imperial': '025', 'santacruz': '087', 'santabarbara': '083', 'plumas': '063', 'tuolumne': '109', 'napa': '055', 'sierra': '091', 'tulare': '107', 'riverside': '065', 'mendocino': '045', 'alameda': '001', 'colusa': '011', 'trinity': '105', 'contracosta': '013', 'losangeles': '037', 'solano': '095', 'shasta': '089', 'sacramento': '067', 'sanbernardino': '071', 'marin': '041', 'orange': '059', 'amador': '005', 'modoc': '049', 'lassen': '035', 'siskiyou': '093', 'butte': '007', 'stanislaus': '099', 'sanluisobispo': '079', 'alpine': '003', 'mariposa': '043', 'madera': '039', 'sanfrancisco': '075', 'sandiego': '073', 'placer': '061', 'sanbenito': '069', 'mono': '051', 'sutter': '101', 'kern': '029', 'sanmateo': '081', 'ventura': '111', 'inyo': '027', 'calaveras': '009'}"
   ]
  },
  {
   "cell_type": "code",
   "execution_count": 14,
   "metadata": {},
   "outputs": [
    {
     "ename": "NameError",
     "evalue": "name 'looku' is not defined",
     "output_type": "error",
     "traceback": [
      "\u001b[0;31m---------------------------------------------------------------------------\u001b[0m",
      "\u001b[0;31mNameError\u001b[0m                                 Traceback (most recent call last)",
      "\u001b[0;32m<ipython-input-14-ba8f1be896db>\u001b[0m in \u001b[0;36m<module>\u001b[0;34m()\u001b[0m\n\u001b[1;32m      1\u001b[0m \u001b[0;32mfor\u001b[0m \u001b[0mf\u001b[0m \u001b[0;32min\u001b[0m \u001b[0mglob\u001b[0m\u001b[0;34m.\u001b[0m\u001b[0mglob\u001b[0m\u001b[0;34m(\u001b[0m\u001b[0;34m'*.txt'\u001b[0m\u001b[0;34m)\u001b[0m\u001b[0;34m:\u001b[0m\u001b[0;34m\u001b[0m\u001b[0m\n\u001b[0;32m----> 2\u001b[0;31m     \u001b[0;32mprint\u001b[0m\u001b[0;34m(\u001b[0m\u001b[0mlooku\u001b[0m\u001b[0;34m[\u001b[0m\u001b[0mf\u001b[0m\u001b[0;34m[\u001b[0m\u001b[0;34m:\u001b[0m\u001b[0;34m-\u001b[0m\u001b[0;36m4\u001b[0m\u001b[0;34m]\u001b[0m\u001b[0;34m]\u001b[0m\u001b[0;34m)\u001b[0m\u001b[0;34m\u001b[0m\u001b[0m\n\u001b[0m",
      "\u001b[0;31mNameError\u001b[0m: name 'looku' is not defined"
     ]
    }
   ],
   "source": [
    "for f in glob.glob('*.txt'):\n",
    "    print(lookup[f[:-4]])"
   ]
  },
  {
   "cell_type": "code",
   "execution_count": null,
   "metadata": {
    "collapsed": true
   },
   "outputs": [],
   "source": []
  }
 ],
 "metadata": {
  "kernelspec": {
   "display_name": "Python 2",
   "language": "python",
   "name": "python2"
  },
  "language_info": {
   "codemirror_mode": {
    "name": "ipython",
    "version": 2
   },
   "file_extension": ".py",
   "mimetype": "text/x-python",
   "name": "python",
   "nbconvert_exporter": "python",
   "pygments_lexer": "ipython2",
   "version": "2.7.13"
  }
 },
 "nbformat": 4,
 "nbformat_minor": 2
}
