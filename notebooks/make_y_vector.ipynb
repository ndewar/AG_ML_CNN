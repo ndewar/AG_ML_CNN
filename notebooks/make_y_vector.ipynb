{
 "cells": [
  {
   "cell_type": "code",
   "execution_count": 46,
   "metadata": {
    "collapsed": true
   },
   "outputs": [],
   "source": [
    "import geopandas as gp\n",
    "import pandas as pd\n",
    "import os\n",
    "import numpy as np\n",
    "import json"
   ]
  },
  {
   "cell_type": "code",
   "execution_count": 47,
   "metadata": {},
   "outputs": [],
   "source": [
    "# Functions\n",
    "\n",
    "def format_df_from_csv(df): # Takes df read from raw USDA CSV and kills off whitespace and other bs \n",
    "    df.columns = [t.strip() for t in list(df)]\n",
    "    df.columns = df.columns.str.replace('\\s+','')  # remove whitespace from headers\n",
    "    df.columns = df.columns.str.lower()\n",
    "    df['countycode'] = df['countycode'].apply(lambda x: str(x).zfill(3)) # Zpad the county codes to match the shps\n",
    "    df.county = df.county.str.strip()\n",
    "    if \"commodity\" in df.columns:\n",
    "        df.rename(columns={'commodity': 'commoditycode'}, inplace = True)\n",
    "    return df\n",
    "\n",
    "def filter_by_county(df,county):\n",
    "    if county is type(int):\n",
    "        g = df[df.countycode == county]\n",
    "    else:\n",
    "        county = county.lower()\n",
    "        df.county = df.county.str.replace('\\s+','')\n",
    "        df.county = df.county.str.lower()\n",
    "        fin_df = df[df.county == county]\n",
    "    return(fin_df)\n",
    "\n",
    "def drop_crops(df):\n",
    "    allcats = df.cropname\n",
    "    badfields = [\"HORSE\",\"WOOL\", \"MILK\", \"LIVESTOCK\", \"CATTLE\", \"POULTRY\", \"PIG\",\"MILK\", \"APIARY\", \"SERVICE\", \"BEES\", \"PASTURE\", \"SILAGE\",\"SHEEP\", \"FEED\",\"FLOWERS\",\"NURSERY\", \"OSTRICH\", \"TURKEYS\", \"CHICKENS\", \"MANURE\", \"GOATS\", \"LAMBS\", \"BIRDS\"]\n",
    "    badfields = ['BEES', 'OSTRICH' ,'SERVICE' ,'HORSE' ,'PASTURE' ,'POULTRY' ,'MILK' ,'TURKEY', 'WOOL' ,'APIARY' ,'RABBITS', 'SHEEP', 'BIOMASS' ,'CATTLE' ,'CHICKEN', 'TREE', 'EGGS' ,'FISH' ,'FLOWER' ,'FOREST' ,'BIRD','GOAT' ,'GAME', 'HOGS' ,'PIG' ,'LAMB' ,'LIVESTOCK' ,'MANURE','NURSERY']\n",
    "    keep = [x for x in allcats if x.split() not in  badfields]\n",
    "    result = [r for r in allcats if not any(z in r for z in badfields)]\n",
    "    df = df.loc[df['cropname'].isin(result)]\n",
    "    return df\n",
    "\n",
    "def replace_nans_with_prod(df):\n",
    "    crops = df.cropname.unique()\n",
    "    cdfs = []\n",
    "    for c in crops:\n",
    "        f = df.loc[df.cropname== c]\n",
    "        \n",
    "        f.production = pd.to_numeric(f.production, errors='coerce')\n",
    "        f.value = pd.to_numeric(f.value, errors='coerce')\n",
    "        f.countycode = pd.to_numeric(f.countycode, errors = \"coerce\")\n",
    "        f.loc[f.production.isnull(), 'production'] = f.loc[f.production.isnull()].value.astype(np.float)*f.loc[f.production.isnull()].value.astype(np.float) / f[f.countycode == 999].value.values.astype(np.float)\n",
    "\n",
    "        cdfs.append(f)\n",
    "    \n",
    "    fin_df = pd.concat(cdfs)\n",
    "    return(fin_df)\n",
    "\n",
    "def calc_prod(df):\n",
    "    totals = df[df.countycode == 999]\n",
    "    crops = df.cropname.unique()\n",
    "    cdfs = []\n",
    "    for c in crops:\n",
    "        f = df.loc[df.cropname== c]\n",
    "        \n",
    "        f.production = pd.to_numeric(f.production, errors='coerce')\n",
    "        f.value = pd.to_numeric(f.value, errors='coerce')\n",
    "        f.countycode = pd.to_numeric(f.countycode, errors = \"coerce\")\n",
    "        f.loc[f.production.isnull(), 'production'] = f.loc[f.production.isnull()].value.astype(np.float)*f.loc[f.production.isnull()].value.astype(np.float) / totals.loc[totals.cropname==c].value.astype(np.float)\n",
    "\n",
    "        cdfs.append(f)\n",
    "    \n",
    "    fin_df = pd.concat(cdfs)\n",
    "    return(fin_df)\n",
    "\n",
    "def sum_production(df):\n",
    "    result = {}\n",
    "    year = df.year\n",
    "    df = df.production.dropna(axis=0, how='all')\n",
    "    crop_sum = []\n",
    "    for i in df:\n",
    "        try:\n",
    "            crop_sum.append(float(i))\n",
    "        except:\n",
    "            continue    \n",
    "            \n",
    "    return sum(crop_sum)\n",
    "\n",
    "def write_csv(df):\n",
    "    outfn = os.path.join(os.getcwd(),str(df['year']) + \"_y\")\n",
    "    df.to_csv(out_fn, sep='\\t')\n",
    "    return(outfn)\n",
    "\n",
    "def process_county(county):\n",
    "    \n",
    "    # Read the USDA csvs as dfs and format col names\n",
    "    fdir = os.path.join(os.getcwd(), \"csvs\")\n",
    "    files = [os.path.join(fdir,x) for x in os.listdir(fdir)]\n",
    "    tables = [pd.read_csv(x) for x in files]\n",
    "    dfs = []\n",
    "    \n",
    "    for t in tables:\n",
    "        dfs.append(format_df_from_csv(t))\n",
    "    \n",
    "    # drop bad crops from shapefiles\n",
    "    cleaned = []\n",
    "    for i in dfs:\n",
    "        cleaned.append(drop_crops(i))\n",
    "    \n",
    "    # Check for funky commoditites and remove them (some commodities are blank but still have production values)\n",
    "    for i in cleaned:\n",
    "        i = i[i.commoditycode > 100000] \n",
    "\n",
    "    # Calculate production for crops missing that field\n",
    "    filled = []\n",
    "    for i in cleaned:\n",
    "        filled.append(replace_nans_with_prod(i))\n",
    "    \n",
    "    # just do tulare\n",
    "    counties = []\n",
    "    for i in filled:\n",
    "        counties.append(filter_by_county(i,county))\n",
    "    \n",
    "    # build the output dict, y parameter vector \n",
    "    y = {}\n",
    "    for i in counties:\n",
    "        year = int(filled[0].year.mode())\n",
    "        year = str(year)\n",
    "        prod = sum_production(i)\n",
    "        y[year] = prod\n",
    "    \n",
    "    return (y)\n"
   ]
  },
  {
   "cell_type": "code",
   "execution_count": 13,
   "metadata": {
    "collapsed": true
   },
   "outputs": [],
   "source": [
    "fdir = os.path.join(os.getcwd(), \"csvs\")\n",
    "files = [os.path.join(fdir,x) for x in os.listdir(fdir)]\n",
    "tables = [pd.read_csv(x) for x in files]\n",
    "dfs = []\n",
    "    \n",
    "for t in tables:\n",
    "    dfs.append(format_df_from_csv(t))"
   ]
  },
  {
   "cell_type": "code",
   "execution_count": 67,
   "metadata": {},
   "outputs": [
    {
     "data": {
      "text/plain": [
       "'eldorado'"
      ]
     },
     "execution_count": 67,
     "metadata": {},
     "output_type": "execute_result"
    }
   ],
   "source": [
    "s = \"el   dorado\".strip()\n",
    "s = s.replace(' ','')\n",
    "s"
   ]
  },
  {
   "cell_type": "code",
   "execution_count": 15,
   "metadata": {},
   "outputs": [],
   "source": [
    "county = \"tulare\"\n",
    "by_county = []\n",
    "for i in dfs:\n",
    "    by_county.append(filter_by_county(i,county))"
   ]
  },
  {
   "cell_type": "code",
   "execution_count": 16,
   "metadata": {
    "collapsed": true
   },
   "outputs": [],
   "source": [
    "cleaned = []\n",
    "for i in by_county:\n",
    "    cleaned.append(drop_crops(i))"
   ]
  },
  {
   "cell_type": "code",
   "execution_count": 17,
   "metadata": {
    "collapsed": true
   },
   "outputs": [],
   "source": [
    "# Check for funky commoditites and remove them (some commodities are blank but still have production values)\n",
    "for i in cleaned:\n",
    "    i = i[i.commoditycode > 100000] "
   ]
  },
  {
   "cell_type": "code",
   "execution_count": 19,
   "metadata": {},
   "outputs": [],
   "source": [
    "filled = []\n",
    "for i in cleaned:\n",
    "    filled.append(calc_prod(i))"
   ]
  },
  {
   "cell_type": "code",
   "execution_count": 22,
   "metadata": {},
   "outputs": [],
   "source": [
    "p = sum_production(filled[0])"
   ]
  },
  {
   "cell_type": "code",
   "execution_count": 42,
   "metadata": {},
   "outputs": [
    {
     "data": {
      "text/plain": [
       "'2009'"
      ]
     },
     "execution_count": 42,
     "metadata": {},
     "output_type": "execute_result"
    }
   ],
   "source": [
    "year = int(filled[0].year.mode())\n",
    "year = str(year)\n",
    "year"
   ]
  },
  {
   "cell_type": "code",
   "execution_count": 48,
   "metadata": {
    "collapsed": true
   },
   "outputs": [],
   "source": [
    "def process_county(county):\n",
    "    fdir = os.path.join(os.getcwd(), \"csvs\")\n",
    "    files = [os.path.join(fdir,x) for x in os.listdir(fdir)]\n",
    "    tables = [pd.read_csv(x) for x in files]\n",
    "    dfs = []\n",
    "\n",
    "    for t in tables:\n",
    "        dfs.append(format_df_from_csv(t))\n",
    "\n",
    "    by_county = []\n",
    "    for i in dfs:\n",
    "        by_county.append(filter_by_county(i,county))\n",
    "\n",
    "    cleaned = []\n",
    "    for i in by_county:\n",
    "        cleaned.append(drop_crops(i))\n",
    "\n",
    "    # Check for funky commoditites and remove them (some commodities are blank but still have production values)\n",
    "    for i in cleaned:\n",
    "        i = i[i.commoditycode > 100000] \n",
    "\n",
    "    filled = []\n",
    "    for i in cleaned:\n",
    "        filled.append(calc_prod(i))\n",
    "\n",
    "    y = {}\n",
    "    for i in filled:\n",
    "        year = int(i.year.mode())\n",
    "        year = str(year)\n",
    "        y[year] = sum_production(i)\n",
    "\n",
    "    return y\n",
    "\n",
    "    '''\n",
    "    with open(county+'.txt', 'w') as file:\n",
    "        file.write(json.dumps(y))\n",
    "    '''"
   ]
  },
  {
   "cell_type": "code",
   "execution_count": 49,
   "metadata": {},
   "outputs": [],
   "source": [
    "county = \"tulare\"\n",
    "process_county(county)"
   ]
  },
  {
   "cell_type": "code",
   "execution_count": null,
   "metadata": {
    "collapsed": true
   },
   "outputs": [],
   "source": [
    "lists = sorted(tulare.items()) # sorted by key, return a list of tuples\n",
    "\n",
    "x, y = zip(*lists)"
   ]
  },
  {
   "cell_type": "code",
   "execution_count": null,
   "metadata": {
    "collapsed": true
   },
   "outputs": [],
   "source": [
    "import matplotlib.pyplot as plt"
   ]
  },
  {
   "cell_type": "code",
   "execution_count": null,
   "metadata": {},
   "outputs": [],
   "source": [
    "plt.scatter(x[9:],y[9:])\n",
    "plt.show()"
   ]
  },
  {
   "cell_type": "code",
   "execution_count": null,
   "metadata": {
    "collapsed": true
   },
   "outputs": [],
   "source": []
  }
 ],
 "metadata": {
  "kernelspec": {
   "display_name": "Python 2",
   "language": "python",
   "name": "python2"
  },
  "language_info": {
   "codemirror_mode": {
    "name": "ipython",
    "version": 2
   },
   "file_extension": ".py",
   "mimetype": "text/x-python",
   "name": "python",
   "nbconvert_exporter": "python",
   "pygments_lexer": "ipython2",
   "version": "2.7.13"
  }
 },
 "nbformat": 4,
 "nbformat_minor": 2
}
