{
 "cells": [
  {
   "cell_type": "code",
   "execution_count": 1,
   "metadata": {
    "collapsed": true
   },
   "outputs": [],
   "source": [
    "import os\n",
    "import geopandas as gp\n",
    "import pandas as pd\n",
    "import rasterio\n",
    "import matplotlib.pyplot as plt"
   ]
  },
  {
   "cell_type": "code",
   "execution_count": 2,
   "metadata": {
    "collapsed": true
   },
   "outputs": [],
   "source": [
    "def format_df(df): # kills off whitespace and other bs \n",
    "    df.columns = [t.strip() for t in list(df)]\n",
    "    df.columns = df.columns.str.replace('\\s+','')  # remove whitespace from headers\n",
    "    df.columns = df.columns.str.lower()\n",
    "    return df\n",
    "\n",
    "def drop_crops(df):\n",
    "    allcats = df.dwrlegend.unique()\n",
    "    badfields = [allcats[3],allcats[5],allcats[-2],allcats[-3], allcats[-1]] # remove     \n",
    "    keep = [x for x in allcats if x.split() not in  badfields]\n",
    "    result = [r for r in allcats if not any(z in r for z in badfields)]\n",
    "    df = df.loc[df['dwrlegend'].isin(result)]\n",
    "    return df\n",
    "\n",
    "def filter_by_county(df,county):\n",
    "    if type(county) is int:\n",
    "        fin_df = df[df.countycode == county]\n",
    "        return(fin_df)\n",
    "    elif county is type(str):\n",
    "        county = county.lower()\n",
    "        df.county = df.county.str.replace('\\s+','')\n",
    "        df.county = df.county.str.lower()\n",
    "        fin_df = df[df.county == county]\n",
    "        return(fin_df)\n",
    "    else:\n",
    "        print(type(county))\n"
   ]
  },
  {
   "cell_type": "code",
   "execution_count": 3,
   "metadata": {
    "collapsed": true
   },
   "outputs": [],
   "source": [
    "lud = os.path.join(os.getcwd(), \"landuse\")"
   ]
  },
  {
   "cell_type": "code",
   "execution_count": 4,
   "metadata": {
    "collapsed": true
   },
   "outputs": [],
   "source": [
    "f = [os.path.join(lud,x) for x in os.listdir(lud) if x.endswith(\".shp\")][0]"
   ]
  },
  {
   "cell_type": "code",
   "execution_count": 5,
   "metadata": {
    "collapsed": true
   },
   "outputs": [],
   "source": [
    "shp = gp.GeoDataFrame.from_file(f)"
   ]
  },
  {
   "cell_type": "code",
   "execution_count": 7,
   "metadata": {
    "collapsed": true
   },
   "outputs": [],
   "source": [
    "shp = format_df(shp)"
   ]
  },
  {
   "cell_type": "code",
   "execution_count": 8,
   "metadata": {},
   "outputs": [],
   "source": [
    "shp = drop_crops(shp)\n",
    "shp = shp.to_crs(epsg=4326)\n"
   ]
  },
  {
   "cell_type": "code",
   "execution_count": 42,
   "metadata": {},
   "outputs": [],
   "source": [
    "# Make df from lookup table\n",
    "import pandas as pd\n",
    "import json\n",
    "file = [x for x in os.listdir(os.getcwd()) if x.endswith(\"json\")][0]\n",
    "\n",
    "counties = json.loads(open(file).read().decode('utf-8'))\n",
    "cdf = pd.DataFrame(counties.values(),counties.keys()) \n",
    "cdf.columns = [\"county\"]\n",
    "cdf['fips'] = cdf.index"
   ]
  },
  {
   "cell_type": "code",
   "execution_count": 45,
   "metadata": {},
   "outputs": [],
   "source": [
    "fin_df = shp.merge(cdf)\n",
    "fin_df['dissolve'] = fin_df.fips"
   ]
  },
  {
   "cell_type": "code",
   "execution_count": 50,
   "metadata": {},
   "outputs": [],
   "source": [
    "final = fin_df.dissolve(by = \"source\")"
   ]
  },
  {
   "cell_type": "code",
   "execution_count": 51,
   "metadata": {},
   "outputs": [
    {
     "data": {
      "text/plain": [
       "['geometry',\n",
       " u'acres',\n",
       " u'comments',\n",
       " u'county',\n",
       " u'crop2014',\n",
       " u'dwrlegend',\n",
       " u'dateapply',\n",
       " u'lstmoddat',\n",
       " u'modby',\n",
       " u'shape_star',\n",
       " u'shape_stle',\n",
       " 'fips']"
      ]
     },
     "execution_count": 51,
     "metadata": {},
     "output_type": "execute_result"
    }
   ],
   "source": [
    "list(final)"
   ]
  },
  {
   "cell_type": "code",
   "execution_count": null,
   "metadata": {
    "collapsed": true
   },
   "outputs": [],
   "source": [
    "final.to_file(\"county_ag.shp\")"
   ]
  },
  {
   "cell_type": "code",
   "execution_count": null,
   "metadata": {
    "collapsed": true
   },
   "outputs": [],
   "source": [
    "import pandas as pd"
   ]
  },
  {
   "cell_type": "code",
   "execution_count": 10,
   "metadata": {
    "collapsed": true
   },
   "outputs": [],
   "source": [
    "county = \"Tulare\"\n",
    "t = shp[shp.county == \"Tulare\"]"
   ]
  },
  {
   "cell_type": "code",
   "execution_count": 12,
   "metadata": {},
   "outputs": [
    {
     "name": "stderr",
     "output_type": "stream",
     "text": [
      "/Users/aakashahamed/anaconda2/envs/ca_ag_ml/lib/python2.7/site-packages/geopandas/geodataframe.py:157: SettingWithCopyWarning: \n",
      "A value is trying to be set on a copy of a slice from a DataFrame.\n",
      "Try using .loc[row_indexer,col_indexer] = value instead\n",
      "\n",
      "See the caveats in the documentation: http://pandas.pydata.org/pandas-docs/stable/indexing.html#indexing-view-versus-copy\n",
      "  frame[geo_column_name] = level\n"
     ]
    }
   ],
   "source": [
    "t.geometry= t.geometry.buffer(0.002)"
   ]
  },
  {
   "cell_type": "code",
   "execution_count": 13,
   "metadata": {
    "collapsed": true
   },
   "outputs": [],
   "source": [
    "t = t.dissolve(by = 'source')"
   ]
  },
  {
   "cell_type": "code",
   "execution_count": 14,
   "metadata": {},
   "outputs": [
    {
     "data": {
      "image/png": "[encoded data removed]",
      "text/plain": [
       "<matplotlib.figure.Figure at 0x141b0c8d0>"
      ]
     },
     "metadata": {},
     "output_type": "display_data"
    }
   ],
   "source": [
    "t.geometry.plot()\n",
    "plt.show()"
   ]
  },
  {
   "cell_type": "code",
   "execution_count": null,
   "metadata": {
    "collapsed": true
   },
   "outputs": [],
   "source": [
    "outdir = os.path.join(os.getcwd(),\"county_landuse\") \n",
    "if os.path.exists(outdir):\n",
    "    continue\n",
    "else:\n",
    "    os.mkdir(outdir)"
   ]
  },
  {
   "cell_type": "code",
   "execution_count": null,
   "metadata": {
    "collapsed": true
   },
   "outputs": [],
   "source": [
    "t.to_file(os.path.join(outdir,county))"
   ]
  },
  {
   "cell_type": "code",
   "execution_count": 6,
   "metadata": {},
   "outputs": [
    {
     "data": {
      "text/plain": [
       "[u'Acres',\n",
       " u'Comments',\n",
       " u'County',\n",
       " u'Crop2014',\n",
       " u'DWRLegend',\n",
       " u'DateApply',\n",
       " u'LstModDat',\n",
       " u'ModBy',\n",
       " u'Shape_STAr',\n",
       " u'Shape_STLe',\n",
       " u'Source',\n",
       " 'geometry']"
      ]
     },
     "execution_count": 6,
     "metadata": {},
     "output_type": "execute_result"
    }
   ],
   "source": [
    "list(shp)"
   ]
  },
  {
   "cell_type": "code",
   "execution_count": 7,
   "metadata": {
    "collapsed": true
   },
   "outputs": [],
   "source": [
    "sf = os.path.split(os.getcwd())"
   ]
  },
  {
   "cell_type": "code",
   "execution_count": 8,
   "metadata": {},
   "outputs": [
    {
     "data": {
      "text/plain": [
       "('/Users/aakashahamed/Desktop/machine_learning/final_project/ca_ag_ml/final',\n",
       " 'ca_ag_ml')"
      ]
     },
     "execution_count": 8,
     "metadata": {},
     "output_type": "execute_result"
    }
   ],
   "source": [
    "sf"
   ]
  },
  {
   "cell_type": "code",
   "execution_count": 9,
   "metadata": {
    "collapsed": true
   },
   "outputs": [],
   "source": [
    "f = '/Users/aakashahamed/Desktop/machine_learning/final_project/FP/county_shapefile/CA_Cities_TIGER2016.shp'"
   ]
  },
  {
   "cell_type": "code",
   "execution_count": 10,
   "metadata": {
    "collapsed": true
   },
   "outputs": [],
   "source": [
    "t = gp.read_file(f)"
   ]
  },
  {
   "cell_type": "code",
   "execution_count": 18,
   "metadata": {
    "collapsed": true
   },
   "outputs": [],
   "source": [
    "counties ={}\n",
    "list(t)\n",
    "\n",
    "fps = t.COUNTYFP.tolist()\n",
    "fps = [x.encode(\"utf-8\") for x in fps]\n",
    "names = t.NAME.tolist()\n",
    "names = [x.encode(\"utf-8\") for x in names]\n",
    "\n",
    "counties = dict(zip(fps,names))\n",
    "\n",
    "#counties[t.COUNTYFP] = t.NAME"
   ]
  },
  {
   "cell_type": "code",
   "execution_count": 19,
   "metadata": {},
   "outputs": [
    {
     "data": {
      "text/plain": [
       "{'001': 'Alameda',\n",
       " '003': 'Alpine',\n",
       " '005': 'Amador',\n",
       " '007': 'Butte',\n",
       " '009': 'Calaveras',\n",
       " '011': 'Colusa',\n",
       " '013': 'Contra Costa',\n",
       " '015': 'Del Norte',\n",
       " '017': 'El Dorado',\n",
       " '019': 'Fresno',\n",
       " '021': 'Glenn',\n",
       " '023': 'Humboldt',\n",
       " '025': 'Imperial',\n",
       " '027': 'Inyo',\n",
       " '029': 'Kern',\n",
       " '031': 'Kings',\n",
       " '033': 'Lake',\n",
       " '035': 'Lassen',\n",
       " '037': 'Los Angeles',\n",
       " '039': 'Madera',\n",
       " '041': 'Marin',\n",
       " '043': 'Mariposa',\n",
       " '045': 'Mendocino',\n",
       " '047': 'Merced',\n",
       " '049': 'Modoc',\n",
       " '051': 'Mono',\n",
       " '053': 'Monterey',\n",
       " '055': 'Napa',\n",
       " '057': 'Nevada',\n",
       " '059': 'Orange',\n",
       " '061': 'Placer',\n",
       " '063': 'Plumas',\n",
       " '065': 'Riverside',\n",
       " '067': 'Sacramento',\n",
       " '069': 'San Benito',\n",
       " '071': 'San Bernardino',\n",
       " '073': 'San Diego',\n",
       " '075': 'San Francisco',\n",
       " '077': 'San Joaquin',\n",
       " '079': 'San Luis Obispo',\n",
       " '081': 'San Mateo',\n",
       " '083': 'Santa Barbara',\n",
       " '085': 'Santa Clara',\n",
       " '087': 'Santa Cruz',\n",
       " '089': 'Shasta',\n",
       " '091': 'Sierra',\n",
       " '093': 'Siskiyou',\n",
       " '095': 'Solano',\n",
       " '097': 'Sonoma',\n",
       " '099': 'Stanislaus',\n",
       " '101': 'Sutter',\n",
       " '103': 'Tehama',\n",
       " '105': 'Trinity',\n",
       " '107': 'Tulare',\n",
       " '109': 'Tuolumne',\n",
       " '111': 'Ventura',\n",
       " '113': 'Yolo',\n",
       " '115': 'Yuba'}"
      ]
     },
     "execution_count": 19,
     "metadata": {},
     "output_type": "execute_result"
    }
   ],
   "source": [
    "counties"
   ]
  },
  {
   "cell_type": "code",
   "execution_count": 22,
   "metadata": {
    "collapsed": true
   },
   "outputs": [],
   "source": [
    "import json\n",
    "with open('county_lookup.json', 'w') as f:\n",
    "    json.dump(counties, f)\n"
   ]
  },
  {
   "cell_type": "code",
   "execution_count": null,
   "metadata": {
    "collapsed": true
   },
   "outputs": [],
   "source": []
  }
 ],
 "metadata": {
  "kernelspec": {
   "display_name": "Python 2",
   "language": "python",
   "name": "python2"
  },
  "language_info": {
   "codemirror_mode": {
    "name": "ipython",
    "version": 2
   },
   "file_extension": ".py",
   "mimetype": "text/x-python",
   "name": "python",
   "nbconvert_exporter": "python",
   "pygments_lexer": "ipython2",
   "version": "2.7.13"
  }
 },
 "nbformat": 4,
 "nbformat_minor": 2
}
